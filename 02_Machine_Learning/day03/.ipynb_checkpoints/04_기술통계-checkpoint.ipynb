{
 "cells": [
  {
   "cell_type": "code",
   "execution_count": 2,
   "id": "aaab7771-4bb7-4e0d-bf36-05f3f9182f7e",
   "metadata": {},
   "outputs": [],
   "source": [
    "import pandas as pd\n",
    "from matplotlib import pyplot"
   ]
  },
  {
   "cell_type": "code",
   "execution_count": null,
   "id": "9c5c979d-652b-4afe-8fdb-240a835201de",
   "metadata": {},
   "outputs": [],
   "source": [
    "### 2) 샘플데이터 가져오기\n",
    "#### 기술통계 수치값, "
   ]
  }
 ],
 "metadata": {
  "kernelspec": {
   "display_name": "Python 3 (ipykernel)",
   "language": "python",
   "name": "python3"
  },
  "language_info": {
   "codemirror_mode": {
    "name": "ipython",
    "version": 3
   },
   "file_extension": ".py",
   "mimetype": "text/x-python",
   "name": "python",
   "nbconvert_exporter": "python",
   "pygments_lexer": "ipython3",
   "version": "3.11.7"
  }
 },
 "nbformat": 4,
 "nbformat_minor": 5
}
